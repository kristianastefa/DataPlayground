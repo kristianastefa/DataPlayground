{
 "cells": [
  {
   "cell_type": "markdown",
   "metadata": {},
   "source": [
    "## Using ElasticSearch to index the news dataset and implementing a Pseudo-Relevance Feedback based on Rocchio's Algorithm"
   ]
  },
  {
   "cell_type": "code",
   "execution_count": 1,
   "metadata": {},
   "outputs": [
    {
     "name": "stdout",
     "output_type": "stream",
     "text": [
      "(8, 12, 0)\n"
     ]
    }
   ],
   "source": [
    "import pandas as pd\n",
    "import json\n",
    "import requests\n",
    "import numpy as np\n",
    "from requests.auth import HTTPBasicAuth\n",
    "from elasticsearch import Elasticsearch\n",
    "import elasticsearch\n",
    "from elasticsearch.helpers import bulk\n",
    "import math\n",
    "\n",
    "print(elasticsearch.__version__)"
   ]
  },
  {
   "cell_type": "code",
   "execution_count": null,
   "metadata": {},
   "outputs": [],
   "source": [
    "# !!! CUSTOMIZE THIS SECTION WITH YOUR CREDENTIALS !!!\n",
    "\n",
    "USER = 'elastic'\n",
    "PWD = 'lke-UQaMH*fci8A3xjo+'\n",
    "index_name = 'news'\n",
    "ES_ENDPOINT = 'https://localhost:9200'\n",
    "\n",
    "path_to_ca_certificates = 'C:/Users/user/pathtothefolder/elasticsearch-8.12.0/config/certs/http_ca.crt'"
   ]
  },
  {
   "cell_type": "markdown",
   "metadata": {},
   "source": [
    "### Read data"
   ]
  },
  {
   "cell_type": "code",
   "execution_count": 3,
   "metadata": {},
   "outputs": [
    {
     "data": {
      "text/html": [
       "<div>\n",
       "<style scoped>\n",
       "    .dataframe tbody tr th:only-of-type {\n",
       "        vertical-align: middle;\n",
       "    }\n",
       "\n",
       "    .dataframe tbody tr th {\n",
       "        vertical-align: top;\n",
       "    }\n",
       "\n",
       "    .dataframe thead th {\n",
       "        text-align: right;\n",
       "    }\n",
       "</style>\n",
       "<table border=\"1\" class=\"dataframe\">\n",
       "  <thead>\n",
       "    <tr style=\"text-align: right;\">\n",
       "      <th></th>\n",
       "      <th>link</th>\n",
       "      <th>headline</th>\n",
       "      <th>category</th>\n",
       "      <th>short_description</th>\n",
       "      <th>authors</th>\n",
       "      <th>date</th>\n",
       "    </tr>\n",
       "  </thead>\n",
       "  <tbody>\n",
       "    <tr>\n",
       "      <th>0</th>\n",
       "      <td>https://www.huffpost.com/entry/covid-boosters-...</td>\n",
       "      <td>Over 4 Million Americans Roll Up Sleeves For O...</td>\n",
       "      <td>U.S. NEWS</td>\n",
       "      <td>Health experts said it is too early to predict...</td>\n",
       "      <td>Carla K. Johnson, AP</td>\n",
       "      <td>2022-09-23</td>\n",
       "    </tr>\n",
       "    <tr>\n",
       "      <th>1</th>\n",
       "      <td>https://www.huffpost.com/entry/american-airlin...</td>\n",
       "      <td>American Airlines Flyer Charged, Banned For Li...</td>\n",
       "      <td>U.S. NEWS</td>\n",
       "      <td>He was subdued by passengers and crew when he ...</td>\n",
       "      <td>Mary Papenfuss</td>\n",
       "      <td>2022-09-23</td>\n",
       "    </tr>\n",
       "    <tr>\n",
       "      <th>2</th>\n",
       "      <td>https://www.huffpost.com/entry/funniest-tweets...</td>\n",
       "      <td>23 Of The Funniest Tweets About Cats And Dogs ...</td>\n",
       "      <td>COMEDY</td>\n",
       "      <td>\"Until you have a dog you don't understand wha...</td>\n",
       "      <td>Elyse Wanshel</td>\n",
       "      <td>2022-09-23</td>\n",
       "    </tr>\n",
       "    <tr>\n",
       "      <th>3</th>\n",
       "      <td>https://www.huffpost.com/entry/funniest-parent...</td>\n",
       "      <td>The Funniest Tweets From Parents This Week (Se...</td>\n",
       "      <td>PARENTING</td>\n",
       "      <td>\"Accidentally put grown-up toothpaste on my to...</td>\n",
       "      <td>Caroline Bologna</td>\n",
       "      <td>2022-09-23</td>\n",
       "    </tr>\n",
       "    <tr>\n",
       "      <th>4</th>\n",
       "      <td>https://www.huffpost.com/entry/amy-cooper-lose...</td>\n",
       "      <td>Woman Who Called Cops On Black Bird-Watcher Lo...</td>\n",
       "      <td>U.S. NEWS</td>\n",
       "      <td>Amy Cooper accused investment firm Franklin Te...</td>\n",
       "      <td>Nina Golgowski</td>\n",
       "      <td>2022-09-22</td>\n",
       "    </tr>\n",
       "    <tr>\n",
       "      <th>...</th>\n",
       "      <td>...</td>\n",
       "      <td>...</td>\n",
       "      <td>...</td>\n",
       "      <td>...</td>\n",
       "      <td>...</td>\n",
       "      <td>...</td>\n",
       "    </tr>\n",
       "    <tr>\n",
       "      <th>209522</th>\n",
       "      <td>https://www.huffingtonpost.com/entry/rim-ceo-t...</td>\n",
       "      <td>RIM CEO Thorsten Heins' 'Significant' Plans Fo...</td>\n",
       "      <td>TECH</td>\n",
       "      <td>Verizon Wireless and AT&amp;T are already promotin...</td>\n",
       "      <td>Reuters, Reuters</td>\n",
       "      <td>2012-01-28</td>\n",
       "    </tr>\n",
       "    <tr>\n",
       "      <th>209523</th>\n",
       "      <td>https://www.huffingtonpost.com/entry/maria-sha...</td>\n",
       "      <td>Maria Sharapova Stunned By Victoria Azarenka I...</td>\n",
       "      <td>SPORTS</td>\n",
       "      <td>Afterward, Azarenka, more effusive with the pr...</td>\n",
       "      <td>NaN</td>\n",
       "      <td>2012-01-28</td>\n",
       "    </tr>\n",
       "    <tr>\n",
       "      <th>209524</th>\n",
       "      <td>https://www.huffingtonpost.com/entry/super-bow...</td>\n",
       "      <td>Giants Over Patriots, Jets Over Colts Among  M...</td>\n",
       "      <td>SPORTS</td>\n",
       "      <td>Leading up to Super Bowl XLVI, the most talked...</td>\n",
       "      <td>NaN</td>\n",
       "      <td>2012-01-28</td>\n",
       "    </tr>\n",
       "    <tr>\n",
       "      <th>209525</th>\n",
       "      <td>https://www.huffingtonpost.com/entry/aldon-smi...</td>\n",
       "      <td>Aldon Smith Arrested: 49ers Linebacker Busted ...</td>\n",
       "      <td>SPORTS</td>\n",
       "      <td>CORRECTION: An earlier version of this story i...</td>\n",
       "      <td>NaN</td>\n",
       "      <td>2012-01-28</td>\n",
       "    </tr>\n",
       "    <tr>\n",
       "      <th>209526</th>\n",
       "      <td>https://www.huffingtonpost.com/entry/dwight-ho...</td>\n",
       "      <td>Dwight Howard Rips Teammates After Magic Loss ...</td>\n",
       "      <td>SPORTS</td>\n",
       "      <td>The five-time all-star center tore into his te...</td>\n",
       "      <td>NaN</td>\n",
       "      <td>2012-01-28</td>\n",
       "    </tr>\n",
       "  </tbody>\n",
       "</table>\n",
       "<p>209527 rows × 6 columns</p>\n",
       "</div>"
      ],
      "text/plain": [
       "                                                     link  \\\n",
       "0       https://www.huffpost.com/entry/covid-boosters-...   \n",
       "1       https://www.huffpost.com/entry/american-airlin...   \n",
       "2       https://www.huffpost.com/entry/funniest-tweets...   \n",
       "3       https://www.huffpost.com/entry/funniest-parent...   \n",
       "4       https://www.huffpost.com/entry/amy-cooper-lose...   \n",
       "...                                                   ...   \n",
       "209522  https://www.huffingtonpost.com/entry/rim-ceo-t...   \n",
       "209523  https://www.huffingtonpost.com/entry/maria-sha...   \n",
       "209524  https://www.huffingtonpost.com/entry/super-bow...   \n",
       "209525  https://www.huffingtonpost.com/entry/aldon-smi...   \n",
       "209526  https://www.huffingtonpost.com/entry/dwight-ho...   \n",
       "\n",
       "                                                 headline   category  \\\n",
       "0       Over 4 Million Americans Roll Up Sleeves For O...  U.S. NEWS   \n",
       "1       American Airlines Flyer Charged, Banned For Li...  U.S. NEWS   \n",
       "2       23 Of The Funniest Tweets About Cats And Dogs ...     COMEDY   \n",
       "3       The Funniest Tweets From Parents This Week (Se...  PARENTING   \n",
       "4       Woman Who Called Cops On Black Bird-Watcher Lo...  U.S. NEWS   \n",
       "...                                                   ...        ...   \n",
       "209522  RIM CEO Thorsten Heins' 'Significant' Plans Fo...       TECH   \n",
       "209523  Maria Sharapova Stunned By Victoria Azarenka I...     SPORTS   \n",
       "209524  Giants Over Patriots, Jets Over Colts Among  M...     SPORTS   \n",
       "209525  Aldon Smith Arrested: 49ers Linebacker Busted ...     SPORTS   \n",
       "209526  Dwight Howard Rips Teammates After Magic Loss ...     SPORTS   \n",
       "\n",
       "                                        short_description  \\\n",
       "0       Health experts said it is too early to predict...   \n",
       "1       He was subdued by passengers and crew when he ...   \n",
       "2       \"Until you have a dog you don't understand wha...   \n",
       "3       \"Accidentally put grown-up toothpaste on my to...   \n",
       "4       Amy Cooper accused investment firm Franklin Te...   \n",
       "...                                                   ...   \n",
       "209522  Verizon Wireless and AT&T are already promotin...   \n",
       "209523  Afterward, Azarenka, more effusive with the pr...   \n",
       "209524  Leading up to Super Bowl XLVI, the most talked...   \n",
       "209525  CORRECTION: An earlier version of this story i...   \n",
       "209526  The five-time all-star center tore into his te...   \n",
       "\n",
       "                     authors        date  \n",
       "0       Carla K. Johnson, AP  2022-09-23  \n",
       "1             Mary Papenfuss  2022-09-23  \n",
       "2              Elyse Wanshel  2022-09-23  \n",
       "3           Caroline Bologna  2022-09-23  \n",
       "4             Nina Golgowski  2022-09-22  \n",
       "...                      ...         ...  \n",
       "209522      Reuters, Reuters  2012-01-28  \n",
       "209523                   NaN  2012-01-28  \n",
       "209524                   NaN  2012-01-28  \n",
       "209525                   NaN  2012-01-28  \n",
       "209526                   NaN  2012-01-28  \n",
       "\n",
       "[209527 rows x 6 columns]"
      ]
     },
     "execution_count": 3,
     "metadata": {},
     "output_type": "execute_result"
    }
   ],
   "source": [
    "df_dup = pd.read_csv('../data/news/news.csv', index_col = False)\n",
    "df_dup"
   ]
  },
  {
   "cell_type": "markdown",
   "metadata": {},
   "source": [
    "### Data Processing"
   ]
  },
  {
   "cell_type": "code",
   "execution_count": 4,
   "metadata": {},
   "outputs": [
    {
     "name": "stdout",
     "output_type": "stream",
     "text": [
      "Number of duplicate rows: 13\n"
     ]
    }
   ],
   "source": [
    "duplicates = df_dup.duplicated().sum()\n",
    "print(\"Number of duplicate rows:\", duplicates)"
   ]
  },
  {
   "cell_type": "code",
   "execution_count": 5,
   "metadata": {},
   "outputs": [],
   "source": [
    "df = df_dup.drop_duplicates()"
   ]
  },
  {
   "cell_type": "code",
   "execution_count": 6,
   "metadata": {},
   "outputs": [
    {
     "name": "stdout",
     "output_type": "stream",
     "text": [
      "link                     0\n",
      "headline                 6\n",
      "category                 0\n",
      "short_description    19712\n",
      "authors              37405\n",
      "date                     0\n",
      "dtype: int64\n"
     ]
    }
   ],
   "source": [
    "missing_values = df.isnull().sum()\n",
    "print(missing_values)"
   ]
  },
  {
   "cell_type": "code",
   "execution_count": 7,
   "metadata": {},
   "outputs": [
    {
     "name": "stderr",
     "output_type": "stream",
     "text": [
      "C:\\Users\\user\\AppData\\Local\\Temp\\ipykernel_18524\\4141127485.py:2: SettingWithCopyWarning: \n",
      "A value is trying to be set on a copy of a slice from a DataFrame\n",
      "\n",
      "See the caveats in the documentation: https://pandas.pydata.org/pandas-docs/stable/user_guide/indexing.html#returning-a-view-versus-a-copy\n",
      "  df.replace(['', ' ', '-', np.nan], None, inplace=True)\n"
     ]
    }
   ],
   "source": [
    "# Replace various representations of empty values with None\n",
    "df.replace(['', ' ', '-', np.nan], None, inplace=True)"
   ]
  },
  {
   "cell_type": "code",
   "execution_count": 8,
   "metadata": {},
   "outputs": [
    {
     "data": {
      "text/html": [
       "<div>\n",
       "<style scoped>\n",
       "    .dataframe tbody tr th:only-of-type {\n",
       "        vertical-align: middle;\n",
       "    }\n",
       "\n",
       "    .dataframe tbody tr th {\n",
       "        vertical-align: top;\n",
       "    }\n",
       "\n",
       "    .dataframe thead th {\n",
       "        text-align: right;\n",
       "    }\n",
       "</style>\n",
       "<table border=\"1\" class=\"dataframe\">\n",
       "  <thead>\n",
       "    <tr style=\"text-align: right;\">\n",
       "      <th></th>\n",
       "      <th>link</th>\n",
       "      <th>headline</th>\n",
       "      <th>category</th>\n",
       "      <th>short_description</th>\n",
       "      <th>authors</th>\n",
       "      <th>date</th>\n",
       "    </tr>\n",
       "  </thead>\n",
       "  <tbody>\n",
       "    <tr>\n",
       "      <th>0</th>\n",
       "      <td>https://www.huffpost.com/entry/covid-boosters-...</td>\n",
       "      <td>Over 4 Million Americans Roll Up Sleeves For O...</td>\n",
       "      <td>U.S. NEWS</td>\n",
       "      <td>Health experts said it is too early to predict...</td>\n",
       "      <td>Carla K. Johnson, AP</td>\n",
       "      <td>2022-09-23</td>\n",
       "    </tr>\n",
       "    <tr>\n",
       "      <th>1</th>\n",
       "      <td>https://www.huffpost.com/entry/american-airlin...</td>\n",
       "      <td>American Airlines Flyer Charged, Banned For Li...</td>\n",
       "      <td>U.S. NEWS</td>\n",
       "      <td>He was subdued by passengers and crew when he ...</td>\n",
       "      <td>Mary Papenfuss</td>\n",
       "      <td>2022-09-23</td>\n",
       "    </tr>\n",
       "    <tr>\n",
       "      <th>2</th>\n",
       "      <td>https://www.huffpost.com/entry/funniest-tweets...</td>\n",
       "      <td>23 Of The Funniest Tweets About Cats And Dogs ...</td>\n",
       "      <td>COMEDY</td>\n",
       "      <td>\"Until you have a dog you don't understand wha...</td>\n",
       "      <td>Elyse Wanshel</td>\n",
       "      <td>2022-09-23</td>\n",
       "    </tr>\n",
       "    <tr>\n",
       "      <th>3</th>\n",
       "      <td>https://www.huffpost.com/entry/funniest-parent...</td>\n",
       "      <td>The Funniest Tweets From Parents This Week (Se...</td>\n",
       "      <td>PARENTING</td>\n",
       "      <td>\"Accidentally put grown-up toothpaste on my to...</td>\n",
       "      <td>Caroline Bologna</td>\n",
       "      <td>2022-09-23</td>\n",
       "    </tr>\n",
       "    <tr>\n",
       "      <th>4</th>\n",
       "      <td>https://www.huffpost.com/entry/amy-cooper-lose...</td>\n",
       "      <td>Woman Who Called Cops On Black Bird-Watcher Lo...</td>\n",
       "      <td>U.S. NEWS</td>\n",
       "      <td>Amy Cooper accused investment firm Franklin Te...</td>\n",
       "      <td>Nina Golgowski</td>\n",
       "      <td>2022-09-22</td>\n",
       "    </tr>\n",
       "    <tr>\n",
       "      <th>...</th>\n",
       "      <td>...</td>\n",
       "      <td>...</td>\n",
       "      <td>...</td>\n",
       "      <td>...</td>\n",
       "      <td>...</td>\n",
       "      <td>...</td>\n",
       "    </tr>\n",
       "    <tr>\n",
       "      <th>209522</th>\n",
       "      <td>https://www.huffingtonpost.com/entry/rim-ceo-t...</td>\n",
       "      <td>RIM CEO Thorsten Heins' 'Significant' Plans Fo...</td>\n",
       "      <td>TECH</td>\n",
       "      <td>Verizon Wireless and AT&amp;T are already promotin...</td>\n",
       "      <td>Reuters, Reuters</td>\n",
       "      <td>2012-01-28</td>\n",
       "    </tr>\n",
       "    <tr>\n",
       "      <th>209523</th>\n",
       "      <td>https://www.huffingtonpost.com/entry/maria-sha...</td>\n",
       "      <td>Maria Sharapova Stunned By Victoria Azarenka I...</td>\n",
       "      <td>SPORTS</td>\n",
       "      <td>Afterward, Azarenka, more effusive with the pr...</td>\n",
       "      <td>None</td>\n",
       "      <td>2012-01-28</td>\n",
       "    </tr>\n",
       "    <tr>\n",
       "      <th>209524</th>\n",
       "      <td>https://www.huffingtonpost.com/entry/super-bow...</td>\n",
       "      <td>Giants Over Patriots, Jets Over Colts Among  M...</td>\n",
       "      <td>SPORTS</td>\n",
       "      <td>Leading up to Super Bowl XLVI, the most talked...</td>\n",
       "      <td>None</td>\n",
       "      <td>2012-01-28</td>\n",
       "    </tr>\n",
       "    <tr>\n",
       "      <th>209525</th>\n",
       "      <td>https://www.huffingtonpost.com/entry/aldon-smi...</td>\n",
       "      <td>Aldon Smith Arrested: 49ers Linebacker Busted ...</td>\n",
       "      <td>SPORTS</td>\n",
       "      <td>CORRECTION: An earlier version of this story i...</td>\n",
       "      <td>None</td>\n",
       "      <td>2012-01-28</td>\n",
       "    </tr>\n",
       "    <tr>\n",
       "      <th>209526</th>\n",
       "      <td>https://www.huffingtonpost.com/entry/dwight-ho...</td>\n",
       "      <td>Dwight Howard Rips Teammates After Magic Loss ...</td>\n",
       "      <td>SPORTS</td>\n",
       "      <td>The five-time all-star center tore into his te...</td>\n",
       "      <td>None</td>\n",
       "      <td>2012-01-28</td>\n",
       "    </tr>\n",
       "  </tbody>\n",
       "</table>\n",
       "<p>209514 rows × 6 columns</p>\n",
       "</div>"
      ],
      "text/plain": [
       "                                                     link  \\\n",
       "0       https://www.huffpost.com/entry/covid-boosters-...   \n",
       "1       https://www.huffpost.com/entry/american-airlin...   \n",
       "2       https://www.huffpost.com/entry/funniest-tweets...   \n",
       "3       https://www.huffpost.com/entry/funniest-parent...   \n",
       "4       https://www.huffpost.com/entry/amy-cooper-lose...   \n",
       "...                                                   ...   \n",
       "209522  https://www.huffingtonpost.com/entry/rim-ceo-t...   \n",
       "209523  https://www.huffingtonpost.com/entry/maria-sha...   \n",
       "209524  https://www.huffingtonpost.com/entry/super-bow...   \n",
       "209525  https://www.huffingtonpost.com/entry/aldon-smi...   \n",
       "209526  https://www.huffingtonpost.com/entry/dwight-ho...   \n",
       "\n",
       "                                                 headline   category  \\\n",
       "0       Over 4 Million Americans Roll Up Sleeves For O...  U.S. NEWS   \n",
       "1       American Airlines Flyer Charged, Banned For Li...  U.S. NEWS   \n",
       "2       23 Of The Funniest Tweets About Cats And Dogs ...     COMEDY   \n",
       "3       The Funniest Tweets From Parents This Week (Se...  PARENTING   \n",
       "4       Woman Who Called Cops On Black Bird-Watcher Lo...  U.S. NEWS   \n",
       "...                                                   ...        ...   \n",
       "209522  RIM CEO Thorsten Heins' 'Significant' Plans Fo...       TECH   \n",
       "209523  Maria Sharapova Stunned By Victoria Azarenka I...     SPORTS   \n",
       "209524  Giants Over Patriots, Jets Over Colts Among  M...     SPORTS   \n",
       "209525  Aldon Smith Arrested: 49ers Linebacker Busted ...     SPORTS   \n",
       "209526  Dwight Howard Rips Teammates After Magic Loss ...     SPORTS   \n",
       "\n",
       "                                        short_description  \\\n",
       "0       Health experts said it is too early to predict...   \n",
       "1       He was subdued by passengers and crew when he ...   \n",
       "2       \"Until you have a dog you don't understand wha...   \n",
       "3       \"Accidentally put grown-up toothpaste on my to...   \n",
       "4       Amy Cooper accused investment firm Franklin Te...   \n",
       "...                                                   ...   \n",
       "209522  Verizon Wireless and AT&T are already promotin...   \n",
       "209523  Afterward, Azarenka, more effusive with the pr...   \n",
       "209524  Leading up to Super Bowl XLVI, the most talked...   \n",
       "209525  CORRECTION: An earlier version of this story i...   \n",
       "209526  The five-time all-star center tore into his te...   \n",
       "\n",
       "                     authors        date  \n",
       "0       Carla K. Johnson, AP  2022-09-23  \n",
       "1             Mary Papenfuss  2022-09-23  \n",
       "2              Elyse Wanshel  2022-09-23  \n",
       "3           Caroline Bologna  2022-09-23  \n",
       "4             Nina Golgowski  2022-09-22  \n",
       "...                      ...         ...  \n",
       "209522      Reuters, Reuters  2012-01-28  \n",
       "209523                  None  2012-01-28  \n",
       "209524                  None  2012-01-28  \n",
       "209525                  None  2012-01-28  \n",
       "209526                  None  2012-01-28  \n",
       "\n",
       "[209514 rows x 6 columns]"
      ]
     },
     "execution_count": 8,
     "metadata": {},
     "output_type": "execute_result"
    }
   ],
   "source": [
    "df"
   ]
  },
  {
   "cell_type": "code",
   "execution_count": 8,
   "metadata": {},
   "outputs": [
    {
     "name": "stderr",
     "output_type": "stream",
     "text": [
      "C:\\Users\\user\\AppData\\Local\\Temp\\ipykernel_18524\\1798562295.py:3: SettingWithCopyWarning: \n",
      "A value is trying to be set on a copy of a slice from a DataFrame\n",
      "\n",
      "See the caveats in the documentation: https://pandas.pydata.org/pandas-docs/stable/user_guide/indexing.html#returning-a-view-versus-a-copy\n",
      "  df.rename(columns={'index': 'id'}, inplace=True)\n"
     ]
    }
   ],
   "source": [
    "# Creating a new column id to index by that\n",
    "df.reset_index(inplace=True)\n",
    "df.rename(columns={'index': 'id'}, inplace=True)\n",
    "df.index.name = \"id\"\n",
    "df = df.set_index('id')\n",
    "#df.head()"
   ]
  },
  {
   "cell_type": "code",
   "execution_count": 9,
   "metadata": {},
   "outputs": [
    {
     "name": "stdout",
     "output_type": "stream",
     "text": [
      "1\n",
      "{'link': 'https://www.huffpost.com/entry/american-airlines-passenger-banned-flight-attendant-punch-justice-department_n_632e25d3e4b0e247890329fe', 'headline': 'American Airlines Flyer Charged, Banned For Life After Punching Flight Attendant On Video', 'category': 'U.S. NEWS', 'short_description': \"He was subdued by passengers and crew when he fled to the back of the aircraft after the confrontation, according to the U.S. attorney's office in Los Angeles.\", 'authors': 'Mary Papenfuss', 'date': '2022-09-23'}\n"
     ]
    }
   ],
   "source": [
    "# transform the dataframe into json format\n",
    "docs = df.to_dict(orient='records')\n",
    "doc_ids = df.index\n",
    "print(doc_ids[1])\n",
    "print(docs[1])"
   ]
  },
  {
   "cell_type": "markdown",
   "metadata": {},
   "source": [
    "### Indexing with python cURL (Requests)"
   ]
  },
  {
   "cell_type": "code",
   "execution_count": 10,
   "metadata": {},
   "outputs": [],
   "source": [
    "class Elastic:\n",
    "    \"\"\"\n",
    "    A convenience object to send HTTP requests to Elasticsearch\n",
    "    \"\"\"\n",
    "    def __init__(self, endpoint, username, password, path_to_ca_certificates):\n",
    "        \"\"\"\n",
    "        @param endpoint: the URL of the Elasticsearch instance\n",
    "        @param username: the Elasticsearch username \n",
    "        @param password: the Elasticsearch password\n",
    "        \"\"\"\n",
    "        self.header = {'Content-Type': 'application/json', 'charset':'UTF-8'}\n",
    "        #self.header={'Content-Type': '--data-binary application/x-ndjson'}\n",
    "        self.endpoint = endpoint\n",
    "        self.username = username\n",
    "        self.password = password\n",
    "        self.path_to_ca_certificates = path_to_ca_certificates\n",
    "        self.methods_mapping = {'get': requests.get, \n",
    "                                'put':requests.put, \n",
    "                                'post':requests.post, \n",
    "                                'delete':requests.delete}\n",
    "        \n",
    "    def curl(self, method, handle, json=None):\n",
    "        \"\"\"\n",
    "        Sends an HTTP request to the Elasticsearch instance\n",
    "        @param method: can be 'get', 'put', 'post', 'delete'\n",
    "        @param handle: the API handle to be appended to the Elasticsearch url\n",
    "        @param json: the json payload of the HTTP request\n",
    "        \"\"\"\n",
    "        http_method = self.methods_mapping[method.lower()]\n",
    "        r = http_method(f'{self.endpoint}/{handle}', auth=HTTPBasicAuth(USER, PWD), \n",
    "                        headers=self.header, json=json,\n",
    "                        verify = self.path_to_ca_certificates)\n",
    "        return r"
   ]
  },
  {
   "cell_type": "code",
   "execution_count": 11,
   "metadata": {},
   "outputs": [],
   "source": [
    "e = Elastic(ES_ENDPOINT, USER, PWD, path_to_ca_certificates)"
   ]
  },
  {
   "cell_type": "code",
   "execution_count": 12,
   "metadata": {},
   "outputs": [
    {
     "data": {
      "text/plain": [
       "{'acknowledged': True}"
      ]
     },
     "execution_count": 12,
     "metadata": {},
     "output_type": "execute_result"
    }
   ],
   "source": [
    "# delete the index\n",
    "r = e.curl('delete', 'news')\n",
    "r.json()"
   ]
  },
  {
   "cell_type": "code",
   "execution_count": 13,
   "metadata": {},
   "outputs": [
    {
     "data": {
      "text/plain": [
       "{'acknowledged': True, 'shards_acknowledged': True, 'index': 'news'}"
      ]
     },
     "execution_count": 13,
     "metadata": {},
     "output_type": "execute_result"
    }
   ],
   "source": [
    "create_index_json={\n",
    "# Point #4 By putting the type text to beer_name and review_text we allow for full-text query\n",
    "    # while for beer_style we put keyword to omake it useful for filtering creating a DocValue\n",
    "  \"mappings\" : {\n",
    "      \"properties\" : {\n",
    "        \"link\" : {\n",
    "          \"type\" : \"text\" \n",
    "        },\n",
    "        \"headline\" : {\n",
    "          \"type\" : \"text\"\n",
    "        },\n",
    "        \"category\" : {\n",
    "          \"type\" : \"keyword\"\n",
    "        },\n",
    "        \"short_description\" : {\n",
    "          \"type\" : \"text\"\n",
    "        },\n",
    "        \"authors\" : {\n",
    "          \"type\" : \"text\"\n",
    "        },\n",
    "        \"date\" : {\n",
    "          \"type\" : \"text\"\n",
    "        }\n",
    "      }\n",
    "  },\n",
    "  \"settings\": {\n",
    "    \"refresh_interval\": \"-1\", \n",
    "    \"number_of_shards\": 1, \n",
    "    \"number_of_replicas\": 0, \n",
    "    \"index.max_result_window\": 20000,\n",
    "    \"index\" : {\n",
    "        \"similarity\" : {\n",
    "          \"default\" : {\n",
    "            \"type\" : \"BM25\", \"b\": 0.75, \"k1\": 1.2 \n",
    "          }\n",
    "        }\n",
    "    },\n",
    "    \"analysis\": {\n",
    "      \"analyzer\": {\n",
    "        \"std_english\": {\"type\": \"standard\", \"stopwords\": \"_english_\" }\n",
    "      }\n",
    "    }\n",
    "  }\n",
    "}\n",
    "\n",
    "# create an index\n",
    "r = e.curl('put', index_name, json=create_index_json)\n",
    "r.json()"
   ]
  },
  {
   "cell_type": "code",
   "execution_count": 14,
   "metadata": {},
   "outputs": [
    {
     "data": {
      "text/plain": [
       "{'news': {'aliases': {},\n",
       "  'mappings': {'properties': {'authors': {'type': 'text'},\n",
       "    'category': {'type': 'keyword'},\n",
       "    'date': {'type': 'text'},\n",
       "    'headline': {'type': 'text'},\n",
       "    'link': {'type': 'text'},\n",
       "    'short_description': {'type': 'text'}}},\n",
       "  'settings': {'index': {'routing': {'allocation': {'include': {'_tier_preference': 'data_content'}}},\n",
       "    'refresh_interval': '-1',\n",
       "    'number_of_shards': '1',\n",
       "    'provided_name': 'news',\n",
       "    'similarity': {'default': {'type': 'BM25', 'b': '0.75', 'k1': '1.2'}},\n",
       "    'max_result_window': '20000',\n",
       "    'creation_date': '1716652012861',\n",
       "    'analysis': {'analyzer': {'std_english': {'type': 'standard',\n",
       "       'stopwords': '_english_'}}},\n",
       "    'number_of_replicas': '0',\n",
       "    'uuid': 'YUlVIEcETAWLjSA_SdqJ-w',\n",
       "    'version': {'created': '8500008'}}}}}"
      ]
     },
     "execution_count": 14,
     "metadata": {},
     "output_type": "execute_result"
    }
   ],
   "source": [
    "# get the index details and settings\n",
    "r = e.curl('get', index_name)\n",
    "r.json()"
   ]
  },
  {
   "cell_type": "code",
   "execution_count": 15,
   "metadata": {},
   "outputs": [
    {
     "data": {
      "text/plain": [
       "(209514, [])"
      ]
     },
     "execution_count": 15,
     "metadata": {},
     "output_type": "execute_result"
    }
   ],
   "source": [
    "# bulk indexing (via official API)\n",
    "\n",
    "#connect to the local elasticsearch node and authenticate\n",
    "es = Elasticsearch([ES_ENDPOINT], ca_certs=path_to_ca_certificates, basic_auth=(USER, PWD))\n",
    "\n",
    "actions = [\n",
    "  {\n",
    "    \"_index\": index_name,\n",
    "    \"_id\": doc_id,\n",
    "    \"_source\": doc\n",
    "  }\n",
    "  for doc_id, doc in list(zip(doc_ids, docs))\n",
    "]\n",
    "\n",
    "# send actions in bulk (the API takes care of chunking them optimally)\n",
    "bulk(es, actions)"
   ]
  },
  {
   "cell_type": "code",
   "execution_count": 16,
   "metadata": {},
   "outputs": [
    {
     "data": {
      "text/plain": [
       "{'acknowledged': True}"
      ]
     },
     "execution_count": 16,
     "metadata": {},
     "output_type": "execute_result"
    }
   ],
   "source": [
    "# reset the refresh interval to 2 seconds\n",
    "r = e.curl('put', 'news/_settings', {'index' : {'refresh_interval' : '2s'}})\n",
    "r.json()"
   ]
  },
  {
   "cell_type": "code",
   "execution_count": 17,
   "metadata": {},
   "outputs": [
    {
     "data": {
      "text/plain": [
       "{'acknowledged': True}"
      ]
     },
     "execution_count": 17,
     "metadata": {},
     "output_type": "execute_result"
    }
   ],
   "source": [
    "# reset the refresh interval to -1 seconds\n",
    "r = e.curl('put', 'news/_settings', {'index' : {'refresh_interval' : '-1'}})\n",
    "r.json()"
   ]
  },
  {
   "cell_type": "code",
   "execution_count": 18,
   "metadata": {},
   "outputs": [
    {
     "data": {
      "text/plain": [
       "{'_index': 'news',\n",
       " '_id': '42',\n",
       " '_version': 1,\n",
       " '_seq_no': 42,\n",
       " '_primary_term': 1,\n",
       " 'found': True,\n",
       " '_source': {'link': 'https://www.huffpost.com/entry/bc-us-water-woes-mississippi-racism_n_6324b8c1e4b046aa023f398e',\n",
       "  'headline': 'Racism Seen As Root Of Water Crisis In Mississippi Capital',\n",
       "  'category': 'U.S. NEWS',\n",
       "  'short_description': \"A boil-water advisory has been lifted for Mississippi's capital, and the state will stop handing out free bottled water on Saturday.\",\n",
       "  'authors': 'DREW COSTLEY, AP',\n",
       "  'date': '2022-09-16'}}"
      ]
     },
     "execution_count": 18,
     "metadata": {},
     "output_type": "execute_result"
    }
   ],
   "source": [
    "# Checking\n",
    "r = e.curl('get', f'news/_doc/{doc_ids[42]}')\n",
    "r.json()"
   ]
  },
  {
   "cell_type": "markdown",
   "metadata": {},
   "source": [
    "### Relevance Feedback"
   ]
  },
  {
   "cell_type": "markdown",
   "metadata": {},
   "source": [
    "#### Based on Rocchio's Algorithm"
   ]
  },
  {
   "cell_type": "code",
   "execution_count": 19,
   "metadata": {},
   "outputs": [],
   "source": [
    "def retrieve_top_k_documents(initial_query, K):\n",
    "    \"\"\"\n",
    "    Retrieve the top K relevant documents based on the initial query.\n",
    "    \"\"\"\n",
    "    # Execute the search query\n",
    "    r1 = e.curl('get', f'news/_search', {\n",
    "        \"query\": {\n",
    "            \"match\": {\n",
    "                \"short_description\": {\n",
    "                    \"query\": initial_query                \n",
    "    }}}})\n",
    "    response = r1.json()\n",
    "    hits = response.get('hits', {}).get('hits', [])\n",
    "    top_k_documents = hits[:K]\n",
    "    \n",
    "    return top_k_documents"
   ]
  },
  {
   "cell_type": "code",
   "execution_count": 20,
   "metadata": {},
   "outputs": [],
   "source": [
    "def get_term_vectors_for_document(doc_id):\n",
    "    \"\"\"\n",
    "    Retrieve the term vectors for given document\n",
    "    \"\"\"       \n",
    "    doc_idd = doc_id['_id']\n",
    "\n",
    "    r = e.curl('get', f'news/_termvectors/{doc_idd}', {\n",
    "        \"fields\": [\"short_description\"],\n",
    "        \"term_statistics\": True,\n",
    "        \"field_statistics\": True\n",
    "    })\n",
    "        \n",
    "    term_vectors = r.json().get('term_vectors', {})\n",
    "    #print(term_vectors) # debugging o.o\n",
    "    doc_count = term_vectors.get('short_description', {}).get('field_statistics', {}).get('doc_count')    \n",
    "    #print(doc_count)\n",
    "    #print(\"Processing document:\", doc_id)\n",
    "    return term_vectors, doc_count"
   ]
  },
  {
   "cell_type": "code",
   "execution_count": 21,
   "metadata": {},
   "outputs": [],
   "source": [
    "def calculate_top_m_terms(top_k_documents, m):\n",
    "    \"\"\"\n",
    "    Extract terms and calculate TF-IDF for each term on the top K documents \n",
    "    \"\"\"   \n",
    "    terms_tfidf_top_k = {}\n",
    "    num_processed_top_k = 0\n",
    "    for doc_id in top_k_documents:\n",
    "        num_processed_top_k += 1\n",
    "        term_vectors, total_documents = get_term_vectors_for_document(doc_id)\n",
    "        for field, field_info in term_vectors.items():\n",
    "            for term, term_info in field_info.get('terms', {}).items():\n",
    "                tf = 1 + math.log(term_info.get('term_freq', 0))\n",
    "                df = term_info.get('doc_freq', 0)\n",
    "                idf = math.log(total_documents / df)\n",
    "                tfidf = tf * idf\n",
    "                if term not in terms_tfidf_top_k:\n",
    "                    terms_tfidf_top_k[term] = tfidf\n",
    "                else:\n",
    "                    terms_tfidf_top_k[term] += tfidf\n",
    "        \n",
    "    top_m_terms = dict(sorted(terms_tfidf_top_k.items(), key=lambda item: item[1], reverse=True)[:m])\n",
    "\n",
    "    return top_m_terms"
   ]
  },
  {
   "cell_type": "code",
   "execution_count": 22,
   "metadata": {},
   "outputs": [],
   "source": [
    "def extended_query(initial_query, top_m_terms):\n",
    "    \"\"\"\n",
    "    Submit extended query and retrieve results.\n",
    "    \"\"\"\n",
    "    \n",
    "    initial_terms = set(initial_query.split())\n",
    "    extended_terms = set(top_m_terms.keys())\n",
    "    combined_terms = extended_terms.union(initial_terms)\n",
    "    \n",
    "    extended_query = \" \".join(combined_terms)\n",
    "    \n",
    "    # Execute the search query\n",
    "    r = e.curl('get', f'news/_search', {\n",
    "        \"query\": {\n",
    "            \"match\": {\n",
    "                \"short_description\": {\n",
    "                    \"query\": extended_query\n",
    "    }}}})\n",
    "\n",
    "    \n",
    "    extended_results = r.json()\n",
    "\n",
    "    print(\"Extended query short_desription results:\")\n",
    "    for hit in extended_results.get('hits', {}).get('hits', []):\n",
    "        print(hit['_source'].get('short_description', 'No description available'))\n",
    "\n",
    "    return extended_query"
   ]
  },
  {
   "cell_type": "code",
   "execution_count": 27,
   "metadata": {},
   "outputs": [],
   "source": [
    "def pseudo_relevance_feedback(initial_query, K, m):\n",
    "    top_k_documents = retrieve_top_k_documents(initial_query, K)\n",
    "    top_m = calculate_top_m_terms(top_k_documents, m)\n",
    "    ex_query = extended_query(initial_query, top_m)\n",
    "    \n",
    "    return ex_query"
   ]
  },
  {
   "cell_type": "markdown",
   "metadata": {},
   "source": [
    "## Example"
   ]
  },
  {
   "cell_type": "code",
   "execution_count": 28,
   "metadata": {},
   "outputs": [
    {
     "name": "stdout",
     "output_type": "stream",
     "text": [
      "Extended query short_desription results:\n",
      "The plane crash killed all 176 people on board, mostly Iranians and Iranian-Canadians.\n",
      "Iran released a new preliminary report on the crash of the Ukraine International Airways plane, which killed 176 people.\n",
      "Ukrainian investigators are also assisting in the probe of the disaster that killed 176 people.\n",
      "Four officers were killed in the crash.\n",
      "They know what to do during a plane crash. \"A number of crash studies focusing on both survivors and staged experiments have\n",
      "Authorities say the crash killed at least 27 and injured 50.\n",
      "The family sustained serious injuries in the crash, which killed one person.\n",
      "A commuter train crash in New Jersey killed one and injured 108 Thursday.\n",
      "The crash killed 71 people last month, including most of Brazil's Chapecoense soccer team.\n",
      "This week's Germanwings Airbus crash -- and recent reports that the co-pilot may have crashed the plane deliberately -- have\n",
      "\n",
      "Expanded query: iranians crash killed plane 176\n"
     ]
    }
   ],
   "source": [
    "initial_query = \"plane crash\"\n",
    "K = 3\n",
    "m = 5\n",
    "expanded_q = pseudo_relevance_feedback(initial_query,K,m)\n",
    "print(\"\\nExpanded query:\",expanded_q)"
   ]
  },
  {
   "cell_type": "markdown",
   "metadata": {},
   "source": [
    "### Non Expanded Query"
   ]
  },
  {
   "cell_type": "code",
   "execution_count": 30,
   "metadata": {
    "scrolled": true
   },
   "outputs": [
    {
     "data": {
      "text/plain": [
       "{'took': 2,\n",
       " 'timed_out': False,\n",
       " '_shards': {'total': 1, 'successful': 1, 'skipped': 0, 'failed': 0},\n",
       " 'hits': {'total': {'value': 392, 'relation': 'eq'},\n",
       "  'max_score': 16.316483,\n",
       "  'hits': [{'_index': 'news',\n",
       "    '_id': '133956',\n",
       "    '_score': 16.316483,\n",
       "    '_source': {'link': 'https://www.huffingtonpost.com/entry/master-traveler-tips_us_5b9dfa8ee4b03a1dcc8fcb0e',\n",
       "     'headline': '16 Things Master Travelers Do Differently',\n",
       "     'category': 'TRAVEL',\n",
       "     'short_description': 'They know what to do during a plane crash. \"A number of crash studies focusing on both survivors and staged experiments have',\n",
       "     'authors': 'Suzy Strutner',\n",
       "     'date': '2014-04-15'}},\n",
       "   {'_index': 'news',\n",
       "    '_id': '5462',\n",
       "    '_score': 16.089506,\n",
       "    '_source': {'link': 'https://www.huffpost.com/entry/iran-protests-plane-shot-down_n_5e1b1a07c5b6640ec3d5df2f',\n",
       "     'headline': 'Iranians Defy Police, Protest Over Ukranian Plane Shootdown',\n",
       "     'category': 'WORLD NEWS',\n",
       "     'short_description': 'The plane crash killed all 176 people on board, mostly Iranians and Iranian-Canadians.',\n",
       "     'authors': 'Joseph Krauss and Jon Gambrell, AP',\n",
       "     'date': '2020-01-12'}},\n",
       "   {'_index': 'news',\n",
       "    '_id': '5412',\n",
       "    '_score': 14.498932,\n",
       "    '_source': {'link': 'https://www.huffpost.com/entry/iran-acknowledges-2-russian-made-missiles-targeted-ukraine-jet_n_5e26dd98c5b6321176197a88',\n",
       "     'headline': 'Iran Acknowledges 2 Russian-Made Missiles Targeted Ukraine Jet',\n",
       "     'category': 'WORLD NEWS',\n",
       "     'short_description': 'Iran released a new preliminary report on the crash of the Ukraine International Airways plane, which killed 176 people.',\n",
       "     'authors': 'Jon Gambrell, AP',\n",
       "     'date': '2020-01-21'}},\n",
       "   {'_index': 'news',\n",
       "    '_id': '103908',\n",
       "    '_score': 14.498932,\n",
       "    '_source': {'link': 'https://www.huffingtonpost.com/entry/germanwings-pilot_us_55144461e4b0032ae116f40f',\n",
       "     'headline': \"I'm A Pilot, And No, I'm Not Afraid To Go To Work Today\",\n",
       "     'category': 'TRAVEL',\n",
       "     'short_description': \"This week's\\xa0Germanwings Airbus\\xa0crash -- and recent reports that the co-pilot may have crashed the plane deliberately\\xa0-- have\",\n",
       "     'authors': 'Suzy Strutner',\n",
       "     'date': '2015-03-26'}},\n",
       "   {'_index': 'news',\n",
       "    '_id': '94336',\n",
       "    '_score': 13.687086,\n",
       "    '_source': {'link': 'https://www.huffingtonpost.com/entry/teenage-girl-who-survived-plane-crash-walked-for-days-before-getting-picked-up-by-motorist_us_55a45c47e4b0b8145f73747b',\n",
       "     'headline': 'Teenage Girl Who Survived Plane Crash Walked For Days Before Getting Picked Up By Motorist',\n",
       "     'category': 'CRIME',\n",
       "     'short_description': 'SEATTLE (AP) — A driver picked up a teenage girl who survived a small plane crash in a mountainous area in Washington state',\n",
       "     'authors': None,\n",
       "     'date': '2015-07-14'}},\n",
       "   {'_index': 'news',\n",
       "    '_id': '3987',\n",
       "    '_score': 13.436307,\n",
       "    '_source': {'link': 'https://www.huffpost.com/entry/steve-barnes-death_n_5f788083c5b64b480aae740e',\n",
       "     'headline': 'Attorney Steve Barnes Of Cellino & Barnes Dies In Plane Crash',\n",
       "     'category': 'U.S. NEWS',\n",
       "     'short_description': 'Barnes, whose firm was known for its ads and catchy jingle, died in a small plane crash along with his niece, Elizabeth Barnes.',\n",
       "     'authors': 'Jim Mustian, AP',\n",
       "     'date': '2020-10-03'}},\n",
       "   {'_index': 'news',\n",
       "    '_id': '125373',\n",
       "    '_score': 10.539621,\n",
       "    '_source': {'link': 'https://www.huffingtonpost.com/entry/comprehending-the-crash_b_5611449.html',\n",
       "     'headline': 'Comprehending the Crash',\n",
       "     'category': 'IMPACT',\n",
       "     'short_description': 'Why does a plane crash exert such a strong grip on our attention?  Perhaps the answer is obvious, yet different crashes evoke such different kinds of stories, in terms of both media impact and more personal, emotional resonances.',\n",
       "     'authors': \"Randy Malamud, ContributorRegents' Professor Of English, Georgia State University\",\n",
       "     'date': '2014-07-23'}},\n",
       "   {'_index': 'news',\n",
       "    '_id': '92248',\n",
       "    '_score': 10.527985,\n",
       "    '_source': {'link': 'https://www.huffingtonpost.com/entry/behind-the-scenes-with-luke-bryan-new-album-kill-the-lights_us_55c3a4d5e4b0f1cbf1e4202d',\n",
       "     'headline': \"Go Behind The Scenes With Luke Bryan As He Releases New Album 'Kill The Lights'\",\n",
       "     'category': 'ENTERTAINMENT',\n",
       "     'short_description': \"Crash his party, y'all!\",\n",
       "     'authors': 'Leigh Blickley',\n",
       "     'date': '2015-08-07'}},\n",
       "   {'_index': 'news',\n",
       "    '_id': '41515',\n",
       "    '_score': 10.375509,\n",
       "    '_source': {'link': 'https://www.huffingtonpost.com/entry/hawaiian-airlines-climate-change_us_58b8711de4b01fc1bde6e3cc',\n",
       "     'headline': \"Here's What Hawaiian Airlines Is Doing To Help Fight Climate Change\",\n",
       "     'category': 'TRAVEL',\n",
       "     'short_description': 'Just \"plane\" smart.',\n",
       "     'authors': 'Suzy Strutner',\n",
       "     'date': '2017-03-03'}},\n",
       "   {'_index': 'news',\n",
       "    '_id': '1144',\n",
       "    '_score': 10.280514,\n",
       "    '_source': {'link': 'https://www.huffpost.com/entry/newport-beach-helicopter-crash_n_621262c4e4b0f2c343f5d4bf',\n",
       "     'headline': 'Police Helicopter Crash Kills 1 Officer, Injures Another At California Beach',\n",
       "     'category': 'U.S. NEWS',\n",
       "     'short_description': 'The deadly crash came just hours after a separate helicopter crash along a packed beach in Miami.',\n",
       "     'authors': 'Nina Golgowski',\n",
       "     'date': '2022-02-20'}}]}}"
      ]
     },
     "execution_count": 30,
     "metadata": {},
     "output_type": "execute_result"
    }
   ],
   "source": [
    "\"\"\" \n",
    "execute full-text query for \"plane crash\" in short_description field\n",
    "\"\"\"\n",
    "r1 = e.curl('get', f'news/_search',{\n",
    " \"query\": {\n",
    " \"match\": {\n",
    " \"short_description\": {\n",
    " \"query\": initial_query\n",
    "}}}})\n",
    "\n",
    "r1.json()"
   ]
  },
  {
   "cell_type": "markdown",
   "metadata": {},
   "source": [
    "### Expanded Query"
   ]
  },
  {
   "cell_type": "code",
   "execution_count": 29,
   "metadata": {
    "scrolled": true
   },
   "outputs": [
    {
     "data": {
      "text/plain": [
       "{'took': 3,\n",
       " 'timed_out': False,\n",
       " '_shards': {'total': 1, 'successful': 1, 'skipped': 0, 'failed': 0},\n",
       " 'hits': {'total': {'value': 1152, 'relation': 'eq'},\n",
       "  'max_score': 45.38703,\n",
       "  'hits': [{'_index': 'news',\n",
       "    '_id': '5462',\n",
       "    '_score': 45.38703,\n",
       "    '_source': {'link': 'https://www.huffpost.com/entry/iran-protests-plane-shot-down_n_5e1b1a07c5b6640ec3d5df2f',\n",
       "     'headline': 'Iranians Defy Police, Protest Over Ukranian Plane Shootdown',\n",
       "     'category': 'WORLD NEWS',\n",
       "     'short_description': 'The plane crash killed all 176 people on board, mostly Iranians and Iranian-Canadians.',\n",
       "     'authors': 'Joseph Krauss and Jon Gambrell, AP',\n",
       "     'date': '2020-01-12'}},\n",
       "   {'_index': 'news',\n",
       "    '_id': '5412',\n",
       "    '_score': 31.197323,\n",
       "    '_source': {'link': 'https://www.huffpost.com/entry/iran-acknowledges-2-russian-made-missiles-targeted-ukraine-jet_n_5e26dd98c5b6321176197a88',\n",
       "     'headline': 'Iran Acknowledges 2 Russian-Made Missiles Targeted Ukraine Jet',\n",
       "     'category': 'WORLD NEWS',\n",
       "     'short_description': 'Iran released a new preliminary report on the crash of the Ukraine International Airways plane, which killed 176 people.',\n",
       "     'authors': 'Jon Gambrell, AP',\n",
       "     'date': '2020-01-21'}},\n",
       "   {'_index': 'news',\n",
       "    '_id': '5478',\n",
       "    '_score': 18.13242,\n",
       "    '_source': {'link': 'https://www.huffpost.com/entry/iran-investigators-say-ukrainian-plane-never-called-for-help_n_5e16fb45c5b61f701949b5c0',\n",
       "     'headline': 'Iran Investigators Say Ukrainian Plane Never Called For Help',\n",
       "     'category': 'WORLD NEWS',\n",
       "     'short_description': 'Ukrainian investigators are also assisting in the probe of the disaster that killed 176 people.',\n",
       "     'authors': None,\n",
       "     'date': '2020-01-09'}},\n",
       "   {'_index': 'news',\n",
       "    '_id': '50653',\n",
       "    '_score': 17.359035,\n",
       "    '_source': {'link': 'https://www.huffingtonpost.com/entry/brazil-rio-police-helicopter_us_5831b905e4b030997bbfed0c',\n",
       "     'headline': 'Deadly Police Helicopter Crash In Rio After Day Of Intense Firefights',\n",
       "     'category': 'THE WORLDPOST',\n",
       "     'short_description': 'Four officers were killed in the crash.',\n",
       "     'authors': None,\n",
       "     'date': '2016-11-20'}},\n",
       "   {'_index': 'news',\n",
       "    '_id': '133956',\n",
       "    '_score': 16.316483,\n",
       "    '_source': {'link': 'https://www.huffingtonpost.com/entry/master-traveler-tips_us_5b9dfa8ee4b03a1dcc8fcb0e',\n",
       "     'headline': '16 Things Master Travelers Do Differently',\n",
       "     'category': 'TRAVEL',\n",
       "     'short_description': 'They know what to do during a plane crash. \"A number of crash studies focusing on both survivors and staged experiments have',\n",
       "     'authors': 'Suzy Strutner',\n",
       "     'date': '2014-04-15'}},\n",
       "   {'_index': 'news',\n",
       "    '_id': '62337',\n",
       "    '_score': 15.728225,\n",
       "    '_source': {'link': 'https://www.huffingtonpost.com/entry/italy-train-collision_us_5784cd9ae4b0ed2111d774ae',\n",
       "     'headline': 'Italy Trains Crash Head-On In Deadly Collision',\n",
       "     'category': 'THE WORLDPOST',\n",
       "     'short_description': 'Authorities say the crash killed at least 27 and injured 50.',\n",
       "     'authors': None,\n",
       "     'date': '2016-07-12'}},\n",
       "   {'_index': 'news',\n",
       "    '_id': '81553',\n",
       "    '_score': 15.367302,\n",
       "    '_source': {'link': 'https://www.huffingtonpost.com/entry/caitlyn-jenner-sued_us_566338dfe4b079b2818eebef',\n",
       "     'headline': 'Caitlyn Jenner Faces New Lawsuit After Fatal Car Crash',\n",
       "     'category': 'ENTERTAINMENT',\n",
       "     'short_description': 'The family sustained serious injuries in the crash, which killed one person.',\n",
       "     'authors': 'Bill Bradley',\n",
       "     'date': '2015-12-05'}},\n",
       "   {'_index': 'news',\n",
       "    '_id': '55204',\n",
       "    '_score': 15.022572,\n",
       "    '_source': {'link': 'https://www.huffingtonpost.com/entry/fridays-morning-email-the-aftermath-of-the-deadly-new-jersey-train-crash_us_57ee501de4b082aad9bab0d2',\n",
       "     'headline': \"Friday's Morning Email: The Aftermath Of The Deadly New Jersey Train Crash\",\n",
       "     'category': 'POLITICS',\n",
       "     'short_description': 'A commuter train crash in New Jersey killed one and injured 108 Thursday.',\n",
       "     'authors': 'Lauren Weber',\n",
       "     'date': '2016-09-30'}},\n",
       "   {'_index': 'news',\n",
       "    '_id': '47609',\n",
       "    '_score': 14.692968,\n",
       "    '_source': {'link': 'https://www.huffingtonpost.com/entry/chapecoense-plane-crash_us_58615d57e4b0de3a08f5ea09',\n",
       "     'headline': 'Human Error Led To Colombia Soccer Plane Crash, Authorities Say',\n",
       "     'category': 'THE WORLDPOST',\n",
       "     'short_description': \"The crash killed 71 people last month, including most of Brazil's Chapecoense soccer team.\",\n",
       "     'authors': None,\n",
       "     'date': '2016-12-26'}},\n",
       "   {'_index': 'news',\n",
       "    '_id': '103908',\n",
       "    '_score': 14.498932,\n",
       "    '_source': {'link': 'https://www.huffingtonpost.com/entry/germanwings-pilot_us_55144461e4b0032ae116f40f',\n",
       "     'headline': \"I'm A Pilot, And No, I'm Not Afraid To Go To Work Today\",\n",
       "     'category': 'TRAVEL',\n",
       "     'short_description': \"This week's\\xa0Germanwings Airbus\\xa0crash -- and recent reports that the co-pilot may have crashed the plane deliberately\\xa0-- have\",\n",
       "     'authors': 'Suzy Strutner',\n",
       "     'date': '2015-03-26'}}]}}"
      ]
     },
     "execution_count": 29,
     "metadata": {},
     "output_type": "execute_result"
    }
   ],
   "source": [
    "r1 = e.curl('get', f'news/_search',{\n",
    " \"query\": {\n",
    " \"match\": {\n",
    " \"short_description\": {\n",
    " \"query\": expanded_q\n",
    "}}}})\n",
    "\n",
    "r1.json()"
   ]
  },
  {
   "cell_type": "markdown",
   "metadata": {},
   "source": [
    "As we can see from the expanded query, it makes the queries and results more focused in one topic but it is limited and dependent on the terms that are extracted from the top documents that are assumed as relevant. So if we don't have relevant results in the top k the expanded query might do bad as well."
   ]
  },
  {
   "cell_type": "markdown",
   "metadata": {},
   "source": [
    "### Another example with more printing statements :)"
   ]
  },
  {
   "cell_type": "code",
   "execution_count": 78,
   "metadata": {},
   "outputs": [
    {
     "name": "stdout",
     "output_type": "stream",
     "text": [
      "Document 1: If you're someone who watches what you eat, you probably don't get down with a lot of lasagna. Lasagna is typically one big\n",
      "Document 2: A trio lasagna pan is a real game-changer\n",
      "Document 3: Ultra-comforting, and packed with layers of meat sauce, cheese, and tender noodles, Olive Garden's Lasagna Classico is one\n"
     ]
    }
   ],
   "source": [
    "second_query = \"best lasagna\"\n",
    "K = 3  \n",
    "top_k_documents = retrieve_top_k_documents(second_query, K)\n",
    "\n",
    "for i, doc in enumerate(top_k_documents, 1):\n",
    "    print(f\"Document {i}: {doc['_source']['short_description']}\")"
   ]
  },
  {
   "cell_type": "code",
   "execution_count": 79,
   "metadata": {},
   "outputs": [
    {
     "data": {
      "text/plain": [
       "{'lasagna': 35.708256782092484,\n",
       " 'classico': 12.153694552434894,\n",
       " \"garden's\": 12.153694552434894,\n",
       " 'noodles': 9.445644351332685,\n",
       " 'watches': 8.821490042259692,\n",
       " 'changer': 8.821490042259692,\n",
       " 'trio': 8.516108392708508,\n",
       " 'olive': 8.093251541888476}"
      ]
     },
     "execution_count": 79,
     "metadata": {},
     "output_type": "execute_result"
    }
   ],
   "source": [
    "topm= calculate_top_m_terms(top_k_documents, 8)\n",
    "topm"
   ]
  },
  {
   "cell_type": "code",
   "execution_count": 80,
   "metadata": {},
   "outputs": [
    {
     "name": "stdout",
     "output_type": "stream",
     "text": [
      "Extended query short_desription results:\n",
      "Ultra-comforting, and packed with layers of meat sauce, cheese, and tender noodles, Olive Garden's Lasagna Classico is one\n",
      "If you're someone who watches what you eat, you probably don't get down with a lot of lasagna. Lasagna is typically one big\n",
      "Dry noodles everywhere!\n",
      "*watches them on repeat*\n",
      "Do you know who made your noodles? 🍜\n",
      "A trio lasagna pan is a real game-changer\n",
      "A fried noodles recipe that's perfect for a quick meal.\n",
      "\"The Clinton campaign watches 'Morning Joe' every morning.\"\n",
      "You'll never look at Kim Kardashian eating noodles the same again.\n",
      "Chef Bill Kim makes smoky ribs, fried ramen noodles and more.\n",
      "\n",
      "Expanded query: garden's best noodles watches lasagna classico\n"
     ]
    }
   ],
   "source": [
    "expand_q = pseudo_relevance_feedback(second_query,K,5)\n",
    "print(\"\\nExpanded query:\",expand_q)"
   ]
  },
  {
   "cell_type": "code",
   "execution_count": 81,
   "metadata": {
    "scrolled": true
   },
   "outputs": [
    {
     "data": {
      "text/plain": [
       "{'took': 2,\n",
       " 'timed_out': False,\n",
       " '_shards': {'total': 1, 'successful': 1, 'skipped': 0, 'failed': 0},\n",
       " 'hits': {'total': {'value': 3498, 'relation': 'eq'},\n",
       "  'max_score': 13.047355,\n",
       "  'hits': [{'_index': 'news',\n",
       "    '_id': '188452',\n",
       "    '_score': 13.047355,\n",
       "    '_source': {'link': 'https://www.huffingtonpost.com/entry/healthy-lasagna-recipes_us_5b9c4250e4b03a1dcc7d69a9',\n",
       "     'headline': 'Healthy Lasagna Recipes (PHOTOS)',\n",
       "     'category': 'FOOD & DRINK',\n",
       "     'short_description': \"If you're someone who watches what you eat, you probably don't get down with a lot of lasagna. Lasagna is typically one big\",\n",
       "     'authors': None,\n",
       "     'date': '2012-09-11'}},\n",
       "   {'_index': 'news',\n",
       "    '_id': '2064',\n",
       "    '_score': 12.6796465,\n",
       "    '_source': {'link': 'https://www.huffpost.com/entry/kitchen-products-that-dont-cost-a-lot_l_6130ea72e4b0eab0ad955e2d',\n",
       "     'headline': '29 Inexpensive Kitchen Products That Will Be Used All The Time',\n",
       "     'category': 'FOOD & DRINK',\n",
       "     'short_description': 'A trio lasagna pan is a real game-changer',\n",
       "     'authors': 'Emma Lord, Samantha Wieder, BuzzFeed Shopping',\n",
       "     'date': '2021-09-03'}},\n",
       "   {'_index': 'news',\n",
       "    '_id': '162723',\n",
       "    '_score': 10.172682,\n",
       "    '_source': {'link': 'https://www.huffingtonpost.com/entry/olive-garden-lasagna_us_5b9d3fe8e4b03a1dcc85f0ff',\n",
       "     'headline': 'Get The Dish: Olive Garden Lasagna Classico',\n",
       "     'category': 'FOOD & DRINK',\n",
       "     'short_description': \"Ultra-comforting, and packed with layers of meat sauce, cheese, and tender noodles, Olive Garden's Lasagna Classico is one\",\n",
       "     'authors': 'PopSugar Food, PopSugar Food',\n",
       "     'date': '2013-06-12'}},\n",
       "   {'_index': 'news',\n",
       "    '_id': '76968',\n",
       "    '_score': 9.975452,\n",
       "    '_source': {'link': 'https://www.huffingtonpost.com/entry/the-best-wines-to-pair-with-these-classic-italian-meals_us_56a8e50be4b0f6b7d544613c',\n",
       "     'headline': 'The Best Wines To Pair With These Classic Italian Meals',\n",
       "     'category': 'TRAVEL',\n",
       "     'short_description': 'LASAGNA Wine pairing:\\xa0Sangiovese di Romagna Superiore DOC Why: A dish like this needs a faithful, simple and sometimes stubborn',\n",
       "     'authors': 'Elisa Poli, La Dolce Vita',\n",
       "     'date': '2016-01-27'}},\n",
       "   {'_index': 'news',\n",
       "    '_id': '67436',\n",
       "    '_score': 9.785724,\n",
       "    '_source': {'link': 'https://www.huffingtonpost.com/entry/5-standout-sausage-recipe_b_9780864.html',\n",
       "     'headline': '5 Standout Sausage Recipes You Have to Try',\n",
       "     'category': 'TASTE',\n",
       "     'short_description': 'Tired of serving chicken every night? Give sausage a go! You can use it in everything from lasagna to turkey burgers.',\n",
       "     'authors': 'Jennifer Segal, ContributorChef, Recipe Developer and Busy Mom',\n",
       "     'date': '2016-05-15'}},\n",
       "   {'_index': 'news',\n",
       "    '_id': '156963',\n",
       "    '_score': 9.427127,\n",
       "    '_source': {'link': 'https://www.huffingtonpost.com/entry/school-lunch-project-vegg_us_5b9d6ccae4b03a1dcc87d73b',\n",
       "     'headline': 'School Lunch Project: Veggie Mac & Cheese Thermos',\n",
       "     'category': 'FOOD & DRINK',\n",
       "     'short_description': \"I really like sending warm school lunches. I've filled my kids thermoses with lasagna, spaghetti, rice, soups... and they are typically very receptive.\",\n",
       "     'authors': 'Laura Fuentes, Contributor\\nFounder & CEO, MOMables.com, Author, kid friendly recipe d...',\n",
       "     'date': '2013-08-12'}},\n",
       "   {'_index': 'news',\n",
       "    '_id': '170176',\n",
       "    '_score': 9.257505,\n",
       "    '_source': {'link': 'https://www.huffingtonpost.com/entry/ing-restaurant_us_5b9cf738e4b03a1dcc835573',\n",
       "     'headline': 'Let Your Taste Buds Take You Back in Time',\n",
       "     'category': 'FOOD & DRINK',\n",
       "     'short_description': \"Whether it was our mom's homemade lasagna or a memorable chocolate birthday cake, food has a way of transporting us back to the past.\",\n",
       "     'authors': 'Homaro Cantu, Contributor\\nChef Homaro Cantu',\n",
       "     'date': '2013-03-26'}},\n",
       "   {'_index': 'news',\n",
       "    '_id': '203807',\n",
       "    '_score': 8.935941,\n",
       "    '_source': {'link': 'https://www.huffingtonpost.com/entry/fresh-ricotta-cheese_us_5b9b7e30e4b03a1dcc780dc0',\n",
       "     'headline': 'Making Fresh Ricotta Cheese',\n",
       "     'category': 'FOOD & DRINK',\n",
       "     'short_description': 'Fresh ricotta is delicious on bread, in cannoli, lasagna, on veggies, or as part of an antipasto platter -- wherever a creamy, cheesy addition would be good.',\n",
       "     'authors': 'Rosie DeQuattro, Contributor\\nFreelance writer',\n",
       "     'date': '2012-03-29'}},\n",
       "   {'_index': 'news',\n",
       "    '_id': '132999',\n",
       "    '_score': 7.502597,\n",
       "    '_source': {'link': 'https://www.huffingtonpost.com/entry/americas-best-italian-res_b_5212346.html',\n",
       "     'headline': \"America's Best Italian Restaurants\",\n",
       "     'category': 'TASTE',\n",
       "     'short_description': 'What makes a great Italian restaurant anyway? For some it may be the antipasti. For others some combination of how good the wines and pastas are. Holding up one dish is dangerous. Octopus? Lasagna? Cacio e pepe?',\n",
       "     'authors': 'The Daily Meal, ContributorAll things food and drink',\n",
       "     'date': '2014-04-26'}},\n",
       "   {'_index': 'news',\n",
       "    '_id': '45229',\n",
       "    '_score': 6.795129,\n",
       "    '_source': {'link': 'https://www.huffingtonpost.com/entry/best-womens-march-signs_us_5884d8ece4b096b4a232626a',\n",
       "     'headline': \"There Were So Many Great Signs At Women's Marches That We Couldn't Fit Them All In One Post\",\n",
       "     'category': 'POLITICS',\n",
       "     'short_description': 'More of the best of the best.',\n",
       "     'authors': 'Igor Bobic',\n",
       "     'date': '2017-01-22'}}]}}"
      ]
     },
     "execution_count": 81,
     "metadata": {},
     "output_type": "execute_result"
    }
   ],
   "source": [
    "r1 = e.curl('get', f'news/_search',{\n",
    " \"query\": {\n",
    " \"match\": {\n",
    " \"short_description\": {\n",
    " \"query\": second_query\n",
    "}}}})\n",
    "\n",
    "r1.json()"
   ]
  },
  {
   "cell_type": "code",
   "execution_count": 82,
   "metadata": {
    "scrolled": true
   },
   "outputs": [
    {
     "data": {
      "text/plain": [
       "{'took': 11,\n",
       " 'timed_out': False,\n",
       " '_shards': {'total': 1, 'successful': 1, 'skipped': 0, 'failed': 0},\n",
       " 'hits': {'total': {'value': 3539, 'relation': 'eq'},\n",
       "  'max_score': 44.943886,\n",
       "  'hits': [{'_index': 'news',\n",
       "    '_id': '162723',\n",
       "    '_score': 44.943886,\n",
       "    '_source': {'link': 'https://www.huffingtonpost.com/entry/olive-garden-lasagna_us_5b9d3fe8e4b03a1dcc85f0ff',\n",
       "     'headline': 'Get The Dish: Olive Garden Lasagna Classico',\n",
       "     'category': 'FOOD & DRINK',\n",
       "     'short_description': \"Ultra-comforting, and packed with layers of meat sauce, cheese, and tender noodles, Olive Garden's Lasagna Classico is one\",\n",
       "     'authors': 'PopSugar Food, PopSugar Food',\n",
       "     'date': '2013-06-12'}},\n",
       "   {'_index': 'news',\n",
       "    '_id': '188452',\n",
       "    '_score': 21.6675,\n",
       "    '_source': {'link': 'https://www.huffingtonpost.com/entry/healthy-lasagna-recipes_us_5b9c4250e4b03a1dcc7d69a9',\n",
       "     'headline': 'Healthy Lasagna Recipes (PHOTOS)',\n",
       "     'category': 'FOOD & DRINK',\n",
       "     'short_description': \"If you're someone who watches what you eat, you probably don't get down with a lot of lasagna. Lasagna is typically one big\",\n",
       "     'authors': None,\n",
       "     'date': '2012-09-11'}},\n",
       "   {'_index': 'news',\n",
       "    '_id': '26764',\n",
       "    '_score': 14.547398,\n",
       "    '_source': {'link': 'https://www.huffingtonpost.com/entry/dad-drives-kids-bonkers-making-ramen-from-their-exact-instructions_us_599ebbe9e4b06d67e3358ade',\n",
       "     'headline': 'Dad Drives Kids Bonkers Making Ramen From Their Exact Instructions',\n",
       "     'category': 'PARENTS',\n",
       "     'short_description': 'Dry noodles everywhere!',\n",
       "     'authors': 'Taylor Pittman',\n",
       "     'date': '2017-08-24'}},\n",
       "   {'_index': 'news',\n",
       "    '_id': '38025',\n",
       "    '_score': 13.223667,\n",
       "    '_source': {'link': 'https://www.huffingtonpost.com/entry/these-fake-beauty-ads-have-a-secret-mental-health-meaning_us_58ee4fcde4b08c15f0dba608',\n",
       "     'headline': 'These Fake Beauty Ads Have A Secret Mental Health Meaning',\n",
       "     'category': 'HEALTHY LIVING',\n",
       "     'short_description': '*watches them on repeat*',\n",
       "     'authors': 'Lindsay Holmes',\n",
       "     'date': '2017-04-13'}},\n",
       "   {'_index': 'news',\n",
       "    '_id': '83600',\n",
       "    '_score': 12.709569,\n",
       "    '_source': {'link': 'https://www.huffingtonpost.com/entry/fake-seamless-restaurants-grub-hub_us_56449ad0e4b08cda34878a1e',\n",
       "     'headline': 'Some Seamless Restaurants Were Totally Fake, But Feeding You Anyway',\n",
       "     'category': 'TASTE',\n",
       "     'short_description': 'Do you know who made your noodles? 🍜',\n",
       "     'authors': 'Suzy Strutner',\n",
       "     'date': '2015-11-12'}},\n",
       "   {'_index': 'news',\n",
       "    '_id': '2064',\n",
       "    '_score': 12.6796465,\n",
       "    '_source': {'link': 'https://www.huffpost.com/entry/kitchen-products-that-dont-cost-a-lot_l_6130ea72e4b0eab0ad955e2d',\n",
       "     'headline': '29 Inexpensive Kitchen Products That Will Be Used All The Time',\n",
       "     'category': 'FOOD & DRINK',\n",
       "     'short_description': 'A trio lasagna pan is a real game-changer',\n",
       "     'authors': 'Emma Lord, Samantha Wieder, BuzzFeed Shopping',\n",
       "     'date': '2021-09-03'}},\n",
       "   {'_index': 'news',\n",
       "    '_id': '165554',\n",
       "    '_score': 12.098205,\n",
       "    '_source': {'link': 'https://www.huffingtonpost.com/entry/vegetable-chow-mein_us_5b9d275ae4b03a1dcc84f3fd',\n",
       "     'headline': 'Vegetable Chow Mein',\n",
       "     'category': 'FOOD & DRINK',\n",
       "     'short_description': \"A fried noodles recipe that's perfect for a quick meal.\",\n",
       "     'authors': 'Angie Tee, Contributor\\nSeasaltwithfood',\n",
       "     'date': '2013-05-13'}},\n",
       "   {'_index': 'news',\n",
       "    '_id': '88502',\n",
       "    '_score': 11.88719,\n",
       "    '_source': {'link': 'https://www.huffingtonpost.com/entry/joe-scarborough-morning-joe-hillary-clinton_us_55fc27c2e4b08820d9184c9b',\n",
       "     'headline': 'Joe Scarborough Thinks His Show Has A Great Campaign Strategy For Hillary Clinton',\n",
       "     'category': 'MEDIA',\n",
       "     'short_description': '\"The Clinton campaign watches \\'Morning Joe\\' every morning.\"',\n",
       "     'authors': 'Judah Robinson',\n",
       "     'date': '2015-09-18'}},\n",
       "   {'_index': 'news',\n",
       "    '_id': '10329',\n",
       "    '_score': 11.81406,\n",
       "    '_source': {'link': 'https://www.huffingtonpost.com/entry/james-corden-celebrity-instagrams_us_5ae0ac69e4b055fd7fc723ac',\n",
       "     'headline': \"James Corden Gag Shows What's Really Going On In Celebrity Instagrams\",\n",
       "     'category': 'COMEDY',\n",
       "     'short_description': \"You'll never look at Kim Kardashian eating noodles the same again.\",\n",
       "     'authors': 'Ron Dicker',\n",
       "     'date': '2018-04-25'}},\n",
       "   {'_index': 'news',\n",
       "    '_id': '30433',\n",
       "    '_score': 11.81406,\n",
       "    '_source': {'link': 'https://www.huffingtonpost.com/entry/you-should-try-the-killer-asian-infused-cue-at-this-foodie-favorite-in-chicago_us_596511dbe4b03f144e2e7199',\n",
       "     'headline': 'Belly Q Serves Up Killer Asian-Infused Barbecue',\n",
       "     'category': 'TASTE',\n",
       "     'short_description': 'Chef Bill Kim makes smoky ribs, fried ramen noodles and more.',\n",
       "     'authors': None,\n",
       "     'date': '2017-07-11'}}]}}"
      ]
     },
     "execution_count": 82,
     "metadata": {},
     "output_type": "execute_result"
    }
   ],
   "source": [
    "r1 = e.curl('get', f'news/_search',{\n",
    " \"query\": {\n",
    " \"match\": {\n",
    " \"short_description\": {\n",
    " \"query\": expand_q\n",
    "}}}})\n",
    "\n",
    "r1.json()"
   ]
  }
 ],
 "metadata": {
  "kernelspec": {
   "display_name": "Python 3 (ipykernel)",
   "language": "python",
   "name": "python3"
  },
  "language_info": {
   "codemirror_mode": {
    "name": "ipython",
    "version": 3
   },
   "file_extension": ".py",
   "mimetype": "text/x-python",
   "name": "python",
   "nbconvert_exporter": "python",
   "pygments_lexer": "ipython3",
   "version": "3.11.5"
  },
  "toc": {
   "base_numbering": 1,
   "nav_menu": {},
   "number_sections": true,
   "sideBar": true,
   "skip_h1_title": false,
   "title_cell": "Table of Contents",
   "title_sidebar": "Contents",
   "toc_cell": false,
   "toc_position": {
    "height": "calc(100% - 180px)",
    "left": "10px",
    "top": "150px",
    "width": "293.396px"
   },
   "toc_section_display": true,
   "toc_window_display": true
  },
  "vscode": {
   "interpreter": {
    "hash": "4fb81c7a43c8aad423feb40806aa607f1418d657e2a56ee69ec55c8a8d2091aa"
   }
  }
 },
 "nbformat": 4,
 "nbformat_minor": 4
}
